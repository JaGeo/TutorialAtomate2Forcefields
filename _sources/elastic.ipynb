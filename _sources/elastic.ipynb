{
 "cells": [
  {
   "cell_type": "markdown",
   "source": [
    "# Elastic workflow\n",
    "\n",
    "This is a elastic workflow that is based on a stress-strain approach.\n",
    "\n",
    "If you want to read more about this approach, please check out [https://docs.materialsproject.org/methodology/materials-methodology/elasticity](https://docs.materialsproject.org/methodology/materials-methodology/elasticity) and the following publication [https://www.nature.com/articles/sdata20159](https://www.nature.com/articles/sdata20159).\n"
   ],
   "metadata": {
    "collapsed": false
   }
  },
  {
   "cell_type": "markdown",
   "source": [
    "## Let's start with the workflow\n",
    "\n",
    "We now simply load the force field elastic workflow. We change from the default universal ML potential to M3GNet. For CHGNet, an updated version of the ML potential needs to be used: [https://github.com/CederGroupHub/chgnet/issues/79](https://github.com/CederGroupHub/chgnet/issues/79)\n",
    "\n"
   ],
   "metadata": {
    "collapsed": false
   }
  },
  {
   "cell_type": "code",
   "execution_count": null,
   "outputs": [],
   "source": [
    "from jobflow import run_locally\n",
    "from pymatgen.core import Structure\n",
    "from pymatgen.symmetry.analyzer import SpacegroupAnalyzer\n",
    "\n",
    "from atomate2.forcefields.flows.elastic import ElasticMaker\n",
    "from atomate2.forcefields.jobs import M3GNetRelaxMaker\n",
    "\n",
    "structure = Structure(\n",
    "    lattice=[[0, 2.73, 2.73], [2.73, 0, 2.73], [2.73, 2.73, 0]],\n",
    "    species=[\"Si\", \"Si\"],\n",
    "    coords=[[0, 0, 0], [0.25, 0.25, 0.25]],\n",
    ")\n",
    "\n",
    "structure= SpacegroupAnalyzer(structure).get_primitive_standard_structure()\n",
    "\n",
    "elastic_flow = ElasticMaker(\n",
    "    bulk_relax_maker=M3GNetRelaxMaker(\n",
    "        relax_cell=True, relax_kwargs={\"fmax\": 0.00001}\n",
    "    ),\n",
    "    elastic_relax_maker=M3GNetRelaxMaker(\n",
    "        relax_cell=False, relax_kwargs={\"fmax\": 0.00001}\n",
    "    ),\n",
    ").make(structure)\n"
   ],
   "metadata": {
    "collapsed": false
   }
  },
  {
   "cell_type": "markdown",
   "source": [
    "## Let's have a look at the computing jobs\n",
    "The phonon run will first perform a bulk relaxation, then the displacements are generated and run.\n",
    "As we currently don't have a way to compute BORN charges with such potentials, a non-analytical term correction is not performed here.\n"
   ],
   "metadata": {
    "collapsed": false
   }
  },
  {
   "cell_type": "code",
   "execution_count": null,
   "outputs": [],
   "source": [
    "elastic_flow.draw_graph().show()"
   ],
   "metadata": {
    "collapsed": false
   }
  },
  {
   "cell_type": "markdown",
   "source": [
    "## Let's execute the workflow"
   ],
   "metadata": {
    "collapsed": false
   }
  },
  {
   "cell_type": "code",
   "execution_count": null,
   "outputs": [],
   "source": [
    "%%capture\n",
    "from jobflow import run_locally\n",
    "\n",
    "responses = run_locally(elastic_flow,  create_folders=True)"
   ],
   "metadata": {
    "collapsed": false
   }
  },
  {
   "cell_type": "markdown",
   "source": [
    "## Let's have a look at the outputs\n",
    "\n",
    "We query our database for the relevant outputs (here results from the elastic document)\n"
   ],
   "metadata": {
    "collapsed": false
   }
  },
  {
   "cell_type": "code",
   "execution_count": 25,
   "outputs": [],
   "source": [
    "from jobflow import SETTINGS\n",
    "\n",
    "store = SETTINGS.JOB_STORE\n",
    "store.connect()\n",
    "\n",
    "result = store.query_one(\n",
    "    {\"name\": \"fit_elastic_tensor\"},\n",
    "    properties=[\n",
    "        \"output.elastic_tensor\",\n",
    "        \"output.derived_properties\",\n",
    "    ],\n",
    "    load=True,\n",
    "    sort={\"completed_at\": -1} # to get the latest computation\n",
    ")"
   ],
   "metadata": {
    "collapsed": false,
    "ExecuteTime": {
     "end_time": "2023-10-23T17:03:35.056818509Z",
     "start_time": "2023-10-23T17:03:35.010081510Z"
    }
   }
  },
  {
   "cell_type": "markdown",
   "source": [
    "You can then access the elastic tensor in different output formats:"
   ],
   "metadata": {
    "collapsed": false
   }
  },
  {
   "cell_type": "code",
   "execution_count": null,
   "outputs": [],
   "source": [
    "print(result[\"output\"][\"elastic_tensor\"][\"ieee_format\"])\n"
   ],
   "metadata": {
    "collapsed": false
   }
  },
  {
   "cell_type": "markdown",
   "source": [
    "And, derived properties such as bulk moduli can be accessed:"
   ],
   "metadata": {
    "collapsed": false
   }
  },
  {
   "cell_type": "code",
   "execution_count": null,
   "outputs": [],
   "source": [
    "print(result[\"output\"][\"derived_properties\"])"
   ],
   "metadata": {
    "collapsed": false
   }
  }
 ],
 "metadata": {
  "hide_input": false,
  "kernelspec": {
   "display_name": "Python 3 (ipykernel)",
   "language": "python",
   "name": "python3"
  },
  "language_info": {
   "codemirror_mode": {
    "name": "ipython",
    "version": 3
   },
   "file_extension": ".py",
   "mimetype": "text/x-python",
   "name": "python",
   "nbconvert_exporter": "python",
   "pygments_lexer": "ipython3",
   "version": "3.9.16"
  }
 },
 "nbformat": 4,
 "nbformat_minor": 5
}
